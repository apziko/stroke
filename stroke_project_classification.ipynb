{
  "cells": [
    {
      "cell_type": "markdown",
      "metadata": {
        "id": "view-in-github",
        "colab_type": "text"
      },
      "source": [
        "<a href=\"https://colab.research.google.com/github/apziko/stroke/blob/main/stroke_project_classification.ipynb\" target=\"_parent\"><img src=\"https://colab.research.google.com/assets/colab-badge.svg\" alt=\"Open In Colab\"/></a>"
      ]
    },
    {
      "cell_type": "code",
      "execution_count": null,
      "id": "431218eb",
      "metadata": {
        "id": "431218eb"
      },
      "outputs": [],
      "source": [
        "import numpy as np\n",
        "import pandas as pd\n",
        "from matplotlib import pyplot as plt\n",
        "import seaborn as sns\n",
        "import seaborn as sns\n",
        "from sklearn import preprocessing\n",
        "# !pip install xgboost==1.6.1"
      ]
    },
    {
      "cell_type": "markdown",
      "source": [
        "## Read DF"
      ],
      "metadata": {
        "id": "ctpS6KG-Vw5i"
      },
      "id": "ctpS6KG-Vw5i"
    },
    {
      "cell_type": "code",
      "execution_count": null,
      "id": "183448f8",
      "metadata": {
        "id": "183448f8"
      },
      "outputs": [],
      "source": [
        "df = pd.read_csv('healthcare-dataset-stroke-data.csv')\n",
        "df = df[df['gender']!='Other'] #remove one outlier\n",
        "df = df.iloc[:,1:] #remove ID \n",
        "df = df[df['work_type']!='Never_worked']\n",
        "df = df[df['age']>17]"
      ]
    },
    {
      "cell_type": "code",
      "execution_count": null,
      "id": "fb6fd0d2",
      "metadata": {
        "id": "fb6fd0d2"
      },
      "outputs": [],
      "source": [
        "# bmi_mean = df['bmi'].mean()\n",
        "# df[\"bmi\"] = df[\"bmi\"].fillna(bmi_mean)\n",
        "df = df[df['work_type']!='Never_worked']"
      ]
    },
    {
      "cell_type": "code",
      "execution_count": null,
      "id": "fb7d2757",
      "metadata": {
        "id": "fb7d2757",
        "outputId": "3dc84a7c-375d-41c2-961d-e7e60ef93369",
        "colab": {
          "base_uri": "https://localhost:8080/"
        }
      },
      "outputs": [
        {
          "output_type": "stream",
          "name": "stdout",
          "text": [
            "<class 'pandas.core.frame.DataFrame'>\n",
            "RangeIndex: 5110 entries, 0 to 5109\n",
            "Data columns (total 11 columns):\n",
            " #   Column             Non-Null Count  Dtype  \n",
            "---  ------             --------------  -----  \n",
            " 0   gender             5110 non-null   object \n",
            " 1   age                5110 non-null   float64\n",
            " 2   hypertension       5110 non-null   int64  \n",
            " 3   heart_disease      5110 non-null   int64  \n",
            " 4   ever_married       5110 non-null   object \n",
            " 5   work_type          5110 non-null   object \n",
            " 6   Residence_type     5110 non-null   object \n",
            " 7   avg_glucose_level  5110 non-null   float64\n",
            " 8   bmi                4909 non-null   float64\n",
            " 9   smoking_status     5110 non-null   object \n",
            " 10  stroke             5110 non-null   int64  \n",
            "dtypes: float64(3), int64(3), object(5)\n",
            "memory usage: 439.3+ KB\n"
          ]
        }
      ],
      "source": [
        "df.info()"
      ]
    },
    {
      "cell_type": "code",
      "source": [
        "for i in df.columns:\n",
        "  if df[i].dtype == object:\n",
        "    print(i)\n",
        "    print(df[i].value_counts())"
      ],
      "metadata": {
        "colab": {
          "base_uri": "https://localhost:8080/"
        },
        "id": "PqCRAsLdblnV",
        "outputId": "7abc8ebc-2957-446f-ec29-f02052fa0436"
      },
      "id": "PqCRAsLdblnV",
      "execution_count": null,
      "outputs": [
        {
          "output_type": "stream",
          "name": "stdout",
          "text": [
            "gender\n",
            "Female    2994\n",
            "Male      2115\n",
            "Other        1\n",
            "Name: gender, dtype: int64\n",
            "ever_married\n",
            "Yes    3353\n",
            "No     1757\n",
            "Name: ever_married, dtype: int64\n",
            "work_type\n",
            "Private          2925\n",
            "Self-employed     819\n",
            "children          687\n",
            "Govt_job          657\n",
            "Never_worked       22\n",
            "Name: work_type, dtype: int64\n",
            "Residence_type\n",
            "Urban    2596\n",
            "Rural    2514\n",
            "Name: Residence_type, dtype: int64\n",
            "smoking_status\n",
            "never smoked       1892\n",
            "Unknown            1544\n",
            "formerly smoked     885\n",
            "smokes              789\n",
            "Name: smoking_status, dtype: int64\n"
          ]
        }
      ]
    },
    {
      "cell_type": "code",
      "execution_count": null,
      "id": "1f51a3c3",
      "metadata": {
        "id": "1f51a3c3",
        "outputId": "238d9bf4-0f8f-4ec6-df85-63b880799ea2",
        "colab": {
          "base_uri": "https://localhost:8080/"
        }
      },
      "outputs": [
        {
          "output_type": "stream",
          "name": "stdout",
          "text": [
            "age                  28.000\n",
            "hypertension          0.000\n",
            "heart_disease         0.000\n",
            "avg_glucose_level    38.665\n",
            "bmi                   8.750\n",
            "stroke                0.000\n",
            "dtype: float64\n"
          ]
        }
      ],
      "source": [
        "Q1 = df.quantile(0.25)\n",
        "Q3 = df.quantile(0.75)\n",
        "IQR = Q3-Q1\n",
        "print(IQR)"
      ]
    },
    {
      "cell_type": "code",
      "execution_count": null,
      "id": "577f22c6",
      "metadata": {
        "id": "577f22c6",
        "outputId": "5ea8bc38-2be2-47c4-fdee-44546e506b14",
        "colab": {
          "base_uri": "https://localhost:8080/"
        }
      },
      "outputs": [
        {
          "output_type": "execute_result",
          "data": {
            "text/plain": [
              "count    4248.000000\n",
              "mean      108.522349\n",
              "std        47.794567\n",
              "min        55.120000\n",
              "25%        77.460000\n",
              "50%        92.465000\n",
              "75%       116.125000\n",
              "max       271.740000\n",
              "Name: avg_glucose_level, dtype: float64"
            ]
          },
          "metadata": {},
          "execution_count": 16
        }
      ],
      "source": [
        "df['avg_glucose_level'].describe()"
      ]
    },
    {
      "cell_type": "code",
      "source": [],
      "metadata": {
        "id": "HufaI4OUWI_f"
      },
      "id": "HufaI4OUWI_f",
      "execution_count": null,
      "outputs": []
    },
    {
      "cell_type": "markdown",
      "source": [
        "# Visualistaion"
      ],
      "metadata": {
        "id": "4si4vvscWKJK"
      },
      "id": "4si4vvscWKJK"
    },
    {
      "cell_type": "code",
      "source": [],
      "metadata": {
        "id": "3fGjicIvWa9W"
      },
      "id": "3fGjicIvWa9W",
      "execution_count": null,
      "outputs": []
    },
    {
      "cell_type": "markdown",
      "source": [
        "## Define outliers\n",
        "\n"
      ],
      "metadata": {
        "id": "nNHAJCc4VokR"
      },
      "id": "nNHAJCc4VokR"
    },
    {
      "cell_type": "code",
      "execution_count": null,
      "id": "d93156d7",
      "metadata": {
        "id": "d93156d7"
      },
      "outputs": [],
      "source": [
        "def df_clean_outliers(df, col):\n",
        "    for i in df[col]:\n",
        "        q1 = df[col].quantile(0.25)\n",
        "        q3 = df[col].quantile(0.75)\n",
        "        iqr = q3-q1\n",
        "        Lower_tail = q1 - 1.5 * iqr\n",
        "        Upper_tail = q3 + 1.5 * iqr\n",
        "        if i > Upper_tail or i < Lower_tail:\n",
        "            df[col] = df[col].replace(i, np.median(df[col]))\n"
      ]
    },
    {
      "cell_type": "code",
      "execution_count": null,
      "id": "b5a0e174",
      "metadata": {
        "id": "b5a0e174"
      },
      "outputs": [],
      "source": [
        "\n",
        "# col = 'avg_glucose_level'\n",
        "# for i in df[col]:\n",
        "#     q1 = df[col].quantile(0.25)\n",
        "#     q3 = df[col].quantile(0.75)\n",
        "#     iqr = q3-q1\n",
        "#     Lower_tail = q1 - 1.5 * iqr\n",
        "#     Upper_tail = q3 + 1.5 * iqr\n",
        "#     if i > Upper_tail or i < Lower_tail:\n",
        "#         df[col] = df[col].replace(i, np.mean(df[col]))\n",
        "    \n",
        "# df_clean_outliers(df, 'bmi')\n",
        "# df_clean_outliers(df, 'avg_glucose_level')"
      ]
    },
    {
      "cell_type": "code",
      "execution_count": null,
      "id": "87b165db",
      "metadata": {
        "id": "87b165db",
        "outputId": "87f4d27b-06f3-41f4-8cdb-401c20790b7a",
        "colab": {
          "base_uri": "https://localhost:8080/",
          "height": 294
        }
      },
      "outputs": [
        {
          "output_type": "error",
          "ename": "AttributeError",
          "evalue": "ignored",
          "traceback": [
            "\u001b[0;31m---------------------------------------------------------------------------\u001b[0m",
            "\u001b[0;31mAttributeError\u001b[0m                            Traceback (most recent call last)",
            "\u001b[0;32m<ipython-input-19-67ee381a284d>\u001b[0m in \u001b[0;36m<module>\u001b[0;34m\u001b[0m\n\u001b[0;32m----> 1\u001b[0;31m \u001b[0mdf\u001b[0m\u001b[0;34m[\u001b[0m\u001b[0;34m'bmi'\u001b[0m\u001b[0;34m]\u001b[0m\u001b[0;34m.\u001b[0m\u001b[0minfo\u001b[0m\u001b[0;34m(\u001b[0m\u001b[0;34m)\u001b[0m\u001b[0;34m\u001b[0m\u001b[0;34m\u001b[0m\u001b[0m\n\u001b[0m",
            "\u001b[0;32m/usr/local/lib/python3.7/dist-packages/pandas/core/generic.py\u001b[0m in \u001b[0;36m__getattr__\u001b[0;34m(self, name)\u001b[0m\n\u001b[1;32m   5485\u001b[0m         ):\n\u001b[1;32m   5486\u001b[0m             \u001b[0;32mreturn\u001b[0m \u001b[0mself\u001b[0m\u001b[0;34m[\u001b[0m\u001b[0mname\u001b[0m\u001b[0;34m]\u001b[0m\u001b[0;34m\u001b[0m\u001b[0;34m\u001b[0m\u001b[0m\n\u001b[0;32m-> 5487\u001b[0;31m         \u001b[0;32mreturn\u001b[0m \u001b[0mobject\u001b[0m\u001b[0;34m.\u001b[0m\u001b[0m__getattribute__\u001b[0m\u001b[0;34m(\u001b[0m\u001b[0mself\u001b[0m\u001b[0;34m,\u001b[0m \u001b[0mname\u001b[0m\u001b[0;34m)\u001b[0m\u001b[0;34m\u001b[0m\u001b[0;34m\u001b[0m\u001b[0m\n\u001b[0m\u001b[1;32m   5488\u001b[0m \u001b[0;34m\u001b[0m\u001b[0m\n\u001b[1;32m   5489\u001b[0m     \u001b[0;32mdef\u001b[0m \u001b[0m__setattr__\u001b[0m\u001b[0;34m(\u001b[0m\u001b[0mself\u001b[0m\u001b[0;34m,\u001b[0m \u001b[0mname\u001b[0m\u001b[0;34m:\u001b[0m \u001b[0mstr\u001b[0m\u001b[0;34m,\u001b[0m \u001b[0mvalue\u001b[0m\u001b[0;34m)\u001b[0m \u001b[0;34m->\u001b[0m \u001b[0;32mNone\u001b[0m\u001b[0;34m:\u001b[0m\u001b[0;34m\u001b[0m\u001b[0;34m\u001b[0m\u001b[0m\n",
            "\u001b[0;31mAttributeError\u001b[0m: 'Series' object has no attribute 'info'"
          ]
        }
      ],
      "source": [
        "df['bmi'].info()"
      ]
    },
    {
      "cell_type": "code",
      "source": [],
      "metadata": {
        "id": "4NoRg1fDV3Mn"
      },
      "id": "4NoRg1fDV3Mn",
      "execution_count": null,
      "outputs": []
    },
    {
      "cell_type": "markdown",
      "source": [
        "#Data preprocesing"
      ],
      "metadata": {
        "id": "iDJeSLcZV3oN"
      },
      "id": "iDJeSLcZV3oN"
    },
    {
      "cell_type": "markdown",
      "source": [
        "## OneClassSVM - Unsupervised Outlier Detection."
      ],
      "metadata": {
        "id": "UyRWgcn0Ve_1"
      },
      "id": "UyRWgcn0Ve_1"
    },
    {
      "cell_type": "code",
      "execution_count": null,
      "id": "7965bbb5",
      "metadata": {
        "id": "7965bbb5",
        "outputId": "d96aafc7-3431-4909-d809-ecfaf08fbeb1",
        "colab": {
          "base_uri": "https://localhost:8080/",
          "height": 241
        }
      },
      "outputs": [
        {
          "output_type": "error",
          "ename": "NameError",
          "evalue": "ignored",
          "traceback": [
            "\u001b[0;31m---------------------------------------------------------------------------\u001b[0m",
            "\u001b[0;31mNameError\u001b[0m                                 Traceback (most recent call last)",
            "\u001b[0;32m<ipython-input-1-856c122de3d9>\u001b[0m in \u001b[0;36m<module>\u001b[0;34m\u001b[0m\n\u001b[1;32m      1\u001b[0m \u001b[0;32mfrom\u001b[0m \u001b[0msklearn\u001b[0m\u001b[0;34m.\u001b[0m\u001b[0msvm\u001b[0m \u001b[0;32mimport\u001b[0m \u001b[0mOneClassSVM\u001b[0m\u001b[0;34m\u001b[0m\u001b[0;34m\u001b[0m\u001b[0m\n\u001b[1;32m      2\u001b[0m \u001b[0;34m\u001b[0m\u001b[0m\n\u001b[0;32m----> 3\u001b[0;31m \u001b[0mclf\u001b[0m \u001b[0;34m=\u001b[0m \u001b[0mOneClassSVM\u001b[0m\u001b[0;34m(\u001b[0m\u001b[0mgamma\u001b[0m\u001b[0;34m=\u001b[0m\u001b[0;34m'auto'\u001b[0m\u001b[0;34m)\u001b[0m\u001b[0;34m.\u001b[0m\u001b[0mfit\u001b[0m\u001b[0;34m(\u001b[0m\u001b[0mdf\u001b[0m\u001b[0;34m[\u001b[0m\u001b[0;34m[\u001b[0m\u001b[0;34m'avg_glucose_level'\u001b[0m\u001b[0;34m]\u001b[0m\u001b[0;34m]\u001b[0m\u001b[0;34m)\u001b[0m\u001b[0;34m\u001b[0m\u001b[0;34m\u001b[0m\u001b[0m\n\u001b[0m\u001b[1;32m      4\u001b[0m \u001b[0mx\u001b[0m \u001b[0;34m=\u001b[0m \u001b[0mclf\u001b[0m\u001b[0;34m.\u001b[0m\u001b[0mpredict\u001b[0m\u001b[0;34m(\u001b[0m\u001b[0mdf\u001b[0m\u001b[0;34m[\u001b[0m\u001b[0;34m[\u001b[0m\u001b[0;34m'avg_glucose_level'\u001b[0m\u001b[0;34m]\u001b[0m\u001b[0;34m]\u001b[0m\u001b[0;34m)\u001b[0m\u001b[0;34m\u001b[0m\u001b[0;34m\u001b[0m\u001b[0m\n\u001b[1;32m      5\u001b[0m \u001b[0mprint\u001b[0m\u001b[0;34m(\u001b[0m\u001b[0mx\u001b[0m\u001b[0;34m)\u001b[0m\u001b[0;34m\u001b[0m\u001b[0;34m\u001b[0m\u001b[0m\n",
            "\u001b[0;31mNameError\u001b[0m: name 'df' is not defined"
          ]
        }
      ],
      "source": [
        "from sklearn.svm import OneClassSVM\n",
        "\n",
        "clf = OneClassSVM(gamma='auto').fit(df[['avg_glucose_level']])\n",
        "x = clf.predict(df[['avg_glucose_level']])\n",
        "print(x)\n"
      ]
    },
    {
      "cell_type": "code",
      "execution_count": null,
      "id": "04ef6956",
      "metadata": {
        "id": "04ef6956"
      },
      "outputs": [],
      "source": [
        "outliers = [1 for i in x if i==-1]\n",
        "print(sum(outliers))\n",
        "\n",
        "inliers = [1 for i in x if i==1]\n",
        "print(sum(inliers))\n"
      ]
    },
    {
      "cell_type": "code",
      "execution_count": null,
      "id": "9f4f4e6e",
      "metadata": {
        "id": "9f4f4e6e"
      },
      "outputs": [],
      "source": [
        "clf.score_samples(df[['avg_glucose_level']])"
      ]
    },
    {
      "cell_type": "code",
      "execution_count": null,
      "id": "1f7801a8",
      "metadata": {
        "id": "1f7801a8"
      },
      "outputs": [],
      "source": [
        "# df['age']=df_s['age']\n",
        "# df['bmi']=df_s['bmi']"
      ]
    },
    {
      "cell_type": "code",
      "execution_count": null,
      "id": "c9c56e54",
      "metadata": {
        "id": "c9c56e54"
      },
      "outputs": [],
      "source": [
        "# category = pd.cut(df['bmi'], bins=[0,18.5,25,30,50,100], labels=[1, 2, 3, 4, 5])\n",
        "# category_2 = pd.cut(df['age'], bins=[0,2,17,60,110], labels=[1, 2, 3, 4])\n",
        "# category_3 = pd.cut(df['avg_glucose_level'], bins=[0,114,140,300])\n",
        "# df.insert(1, 'age_group', category_2)\n",
        "# df.insert(2, 'bmi_group', category)\n",
        "# df.insert(3, 'gluc_group', category_3)"
      ]
    },
    {
      "cell_type": "code",
      "execution_count": null,
      "id": "13cb5c53",
      "metadata": {
        "id": "13cb5c53"
      },
      "outputs": [],
      "source": [
        "# df_age = df.pop('age')\n",
        "# df_bmi = df.pop('bmi')\n",
        "# df_age = df.pop('age_group')\n",
        "# df_res = df.pop('Residence_type')"
      ]
    },
    {
      "cell_type": "code",
      "execution_count": null,
      "id": "fe439a29",
      "metadata": {
        "id": "fe439a29"
      },
      "outputs": [],
      "source": []
    },
    {
      "cell_type": "code",
      "execution_count": null,
      "id": "a467bcf1",
      "metadata": {
        "id": "a467bcf1"
      },
      "outputs": [],
      "source": [
        "df.sample(5)"
      ]
    },
    {
      "cell_type": "code",
      "execution_count": null,
      "id": "ae38c201",
      "metadata": {
        "id": "ae38c201"
      },
      "outputs": [],
      "source": [
        "df[(df['stroke']==0) & (df['ever_married']=='No')]"
      ]
    },
    {
      "cell_type": "code",
      "execution_count": null,
      "id": "44ca1be5",
      "metadata": {
        "id": "44ca1be5"
      },
      "outputs": [],
      "source": [
        "df['smoking_status'].value_counts()"
      ]
    },
    {
      "cell_type": "code",
      "execution_count": null,
      "id": "1184512e",
      "metadata": {
        "id": "1184512e"
      },
      "outputs": [],
      "source": [
        "df[df['avg_glucose_level']<100].describe()"
      ]
    },
    {
      "cell_type": "code",
      "execution_count": null,
      "id": "836c05cd",
      "metadata": {
        "id": "836c05cd"
      },
      "outputs": [],
      "source": [
        "df[df['stroke']==1].describe()"
      ]
    },
    {
      "cell_type": "markdown",
      "id": "e38852ea",
      "metadata": {
        "id": "e38852ea"
      },
      "source": [
        "## Split DF to train/test DF"
      ]
    },
    {
      "cell_type": "code",
      "execution_count": null,
      "id": "983dfb48",
      "metadata": {
        "id": "983dfb48"
      },
      "outputs": [],
      "source": [
        "from sklearn.model_selection import train_test_split\n",
        "df_to_split = df\n",
        "\n",
        "df_train, df_test = train_test_split(df_to_split)\n",
        "\n",
        "df_train = df_train\n",
        "df_test = df_test\n",
        "\n",
        "\n",
        "# ## LabelEncoder\n",
        "# le = preprocessing.LabelEncoder()\n",
        "# database_ = df_train.select_dtypes(include=(object, 'category')) #select object columns dTypes \n",
        "# db_col = list(database_.columns) #names of dType=object colums\n",
        "# for i in db_col:\n",
        "#     df_train[i] = le.fit_transform(df_train[i]) #LabelEncoder()\n",
        "#     df_test[i] = le.transform(df_test[i]) #LabelEncoder()\n",
        "\n",
        "# X_test = df_test.iloc[:,:-1]\n",
        "# y_test = df_test['stroke']\n",
        "\n",
        "# database2_ = df_train.select_dtypes(include=(object, 'category')) #select object columns dTypes \n",
        "# db_col_2 = list(database2_.columns) #names of dType=object colums\n",
        "# for i in db_col_2:\n",
        "#     df_test[i] = le.transform(df_test[i]) #LabelEncoder()\n",
        "\n",
        "# from sklearn.preprocessing import StandardScaler #standard scaler na bmi i wieku\n",
        "# scaler = StandardScaler()\n",
        "\n",
        "# scal = scaler.fit_transform(df_train[['age', 'bmi']])\n",
        "# df_s = pd.DataFrame(scal, index=df_train.index, columns=['age', 'bmi'])\n",
        "# df_train['age']=df_s['age']Season\n",
        "# df_train['bmi']=df_s['bmi']\n",
        "\n",
        "# test_scal = scaler.transform(X_test[['age', 'bmi']])\n",
        "# df_t_s = pd.DataFrame(test_scal, index=X_test.index, columns=['age', 'bmi'])\n",
        "\n",
        "# X_test['age']=df_t_s['age']\n",
        "# X_test['bmi']=df_t_s['bmi']\n"
      ]
    },
    {
      "cell_type": "code",
      "execution_count": null,
      "id": "1979c0e7",
      "metadata": {
        "id": "1979c0e7"
      },
      "outputs": [],
      "source": [
        "df_train"
      ]
    },
    {
      "cell_type": "code",
      "execution_count": null,
      "id": "33d783d0",
      "metadata": {
        "id": "33d783d0"
      },
      "outputs": [],
      "source": [
        "df_test"
      ]
    },
    {
      "cell_type": "code",
      "execution_count": null,
      "id": "0684cc07",
      "metadata": {
        "id": "0684cc07"
      },
      "outputs": [],
      "source": [
        "df_test['smoking_status'].value_counts()"
      ]
    },
    {
      "cell_type": "code",
      "source": [],
      "metadata": {
        "id": "L_FoaAf4VFB9"
      },
      "id": "L_FoaAf4VFB9",
      "execution_count": null,
      "outputs": []
    },
    {
      "cell_type": "markdown",
      "source": [
        "## OneHotEncoder"
      ],
      "metadata": {
        "id": "qDS7HzgxVFQk"
      },
      "id": "qDS7HzgxVFQk"
    },
    {
      "cell_type": "code",
      "execution_count": null,
      "id": "2959d843",
      "metadata": {
        "id": "2959d843"
      },
      "outputs": [],
      "source": [
        "from sklearn.preprocessing import OneHotEncoder\n",
        "enc = OneHotEncoder(handle_unknown = 'ignore', drop='first', dtype='int')\n",
        "hot_train = enc.fit_transform(df_train.select_dtypes(include=(object, 'category')))\n",
        "hot_test = enc.transform(df_test.select_dtypes(include=(object, 'category')))"
      ]
    },
    {
      "cell_type": "code",
      "execution_count": null,
      "id": "140073f5",
      "metadata": {
        "id": "140073f5"
      },
      "outputs": [],
      "source": [
        "enc.get_feature_names_out()\n",
        "# cat = [list(cat) for cat in enc.categories_]\n",
        "# cat = [item for sublist in enc.get_feature_names_out() for item in sublist]\n",
        "cat = [cat for cat in enc.get_feature_names_out()]"
      ]
    },
    {
      "cell_type": "code",
      "execution_count": null,
      "id": "327b81ea",
      "metadata": {
        "id": "327b81ea"
      },
      "outputs": [],
      "source": [
        "cat"
      ]
    },
    {
      "cell_type": "code",
      "execution_count": null,
      "id": "63815dcf",
      "metadata": {
        "id": "63815dcf"
      },
      "outputs": [],
      "source": [
        "hot_train.toarray()"
      ]
    },
    {
      "cell_type": "code",
      "execution_count": null,
      "id": "4a1d1a7b",
      "metadata": {
        "id": "4a1d1a7b"
      },
      "outputs": [],
      "source": [
        "# cat_2 = [item for sublist in cat for item in sublist]"
      ]
    },
    {
      "cell_type": "code",
      "execution_count": null,
      "id": "84cde75b",
      "metadata": {
        "id": "84cde75b"
      },
      "outputs": [],
      "source": [
        "cat"
      ]
    },
    {
      "cell_type": "code",
      "execution_count": null,
      "id": "256755ee",
      "metadata": {
        "id": "256755ee"
      },
      "outputs": [],
      "source": [
        "df_train_enc = pd.DataFrame(hot_train.toarray(), columns=cat)\n",
        "df_test_enc = pd.DataFrame(hot_test.toarray(), columns=cat)"
      ]
    },
    {
      "cell_type": "code",
      "execution_count": null,
      "id": "013c8d8b",
      "metadata": {
        "id": "013c8d8b"
      },
      "outputs": [],
      "source": []
    },
    {
      "cell_type": "code",
      "execution_count": null,
      "id": "228a4c51",
      "metadata": {
        "id": "228a4c51"
      },
      "outputs": [],
      "source": [
        "# df.loc[[3809]]"
      ]
    },
    {
      "cell_type": "code",
      "execution_count": null,
      "id": "af65278b",
      "metadata": {
        "id": "af65278b"
      },
      "outputs": [],
      "source": [
        "df_train.info()"
      ]
    },
    {
      "cell_type": "code",
      "execution_count": null,
      "id": "e09eea99",
      "metadata": {
        "id": "e09eea99"
      },
      "outputs": [],
      "source": [
        "df_temp_train = df_train.select_dtypes(include=(int, float))\n",
        "df_temp_test = df_test.select_dtypes(include=(int, float))"
      ]
    },
    {
      "cell_type": "code",
      "execution_count": null,
      "id": "e9602c88",
      "metadata": {
        "id": "e9602c88"
      },
      "outputs": [],
      "source": [
        "# df_temp_train = df_temp_train.reset_index()\n",
        "# df_temp_test = df_temp_test.reset_index()\n",
        "# df_train_enc = df_train_enc.reset_index()\n",
        "# df_test_enc = df_test_enc.reset_index()"
      ]
    },
    {
      "cell_type": "code",
      "execution_count": null,
      "id": "a4606a45",
      "metadata": {
        "id": "a4606a45"
      },
      "outputs": [],
      "source": [
        "df_train_enc"
      ]
    },
    {
      "cell_type": "code",
      "execution_count": null,
      "id": "e3414d4d",
      "metadata": {
        "id": "e3414d4d"
      },
      "outputs": [],
      "source": [
        "# df_train_enc #.reset_index(drop=True, inplace=True)\n",
        "# df_temp_train# .reset_index(drop=True, inplace=True)"
      ]
    },
    {
      "cell_type": "code",
      "execution_count": null,
      "id": "042b867d",
      "metadata": {
        "id": "042b867d"
      },
      "outputs": [],
      "source": [
        "df_train_enc"
      ]
    },
    {
      "cell_type": "code",
      "execution_count": null,
      "id": "b722e046",
      "metadata": {
        "id": "b722e046"
      },
      "outputs": [],
      "source": [
        "df_temp_train"
      ]
    },
    {
      "cell_type": "code",
      "execution_count": null,
      "id": "9762b470",
      "metadata": {
        "id": "9762b470"
      },
      "outputs": [],
      "source": [
        "# df_train = pd.merge([df_train_enc, df_temp_train])\n",
        "#df_train = pd.merge(df_train_enc, df_temp_train, ignore_index=True)\n",
        "# df_train = df_train_enc.join(df_temp_train, ignore_index=True)"
      ]
    },
    {
      "cell_type": "code",
      "execution_count": null,
      "id": "79da75ec",
      "metadata": {
        "id": "79da75ec"
      },
      "outputs": [],
      "source": [
        "for column in df_temp_train:\n",
        "    df_train_enc[column] = df_temp_train[column].tolist()\n",
        "    \n",
        "df_train = df_train_enc\n",
        "    \n",
        "# for column in df_temp_test:\n",
        "#     df_test_enc[column] = df_temp_test[column].tolist()   "
      ]
    },
    {
      "cell_type": "code",
      "execution_count": null,
      "id": "3dbe0e63",
      "metadata": {
        "id": "3dbe0e63"
      },
      "outputs": [],
      "source": [
        "for col in df_temp_test:\n",
        "    df_test_enc[col] = df_temp_test[col].tolist()\n",
        "    \n",
        "df_test = df_test_enc"
      ]
    },
    {
      "cell_type": "code",
      "execution_count": null,
      "id": "20b39a05",
      "metadata": {
        "id": "20b39a05"
      },
      "outputs": [],
      "source": [
        "df_test_enc.info()"
      ]
    },
    {
      "cell_type": "code",
      "execution_count": null,
      "id": "6b1bc195",
      "metadata": {
        "id": "6b1bc195"
      },
      "outputs": [],
      "source": [
        "df_train_enc"
      ]
    },
    {
      "cell_type": "code",
      "execution_count": null,
      "id": "e08b5eba",
      "metadata": {
        "id": "e08b5eba"
      },
      "outputs": [],
      "source": [
        "# df_train = df_train_enc.merge(df_temp_train, left_index=True, right_index=True)\n",
        "# df_test = df_test_enc.merge(df_temp_test, left_index=True, right_index=True)"
      ]
    },
    {
      "cell_type": "code",
      "execution_count": null,
      "id": "85ae5448",
      "metadata": {
        "id": "85ae5448"
      },
      "outputs": [],
      "source": [
        "df[(df['age']==75.0) & (df['avg_glucose_level'] == 219.82)]"
      ]
    },
    {
      "cell_type": "code",
      "execution_count": null,
      "id": "b3c6d70d",
      "metadata": {
        "id": "b3c6d70d"
      },
      "outputs": [],
      "source": [
        "# df[(df['age']==75.0) & (df['avg_glucose_level'] == 219.82)]\n",
        "df_test[(df_test['age']==75.0) & (df_test['avg_glucose_level'] == 219.82)]"
      ]
    },
    {
      "cell_type": "code",
      "execution_count": null,
      "id": "35b35b0c",
      "metadata": {
        "id": "35b35b0c"
      },
      "outputs": [],
      "source": [
        "# x = 3600\n",
        "# df.loc[[x]]\n"
      ]
    },
    {
      "cell_type": "code",
      "execution_count": null,
      "id": "90d2b943",
      "metadata": {
        "id": "90d2b943"
      },
      "outputs": [],
      "source": [
        "# df_train.loc[[x]]"
      ]
    },
    {
      "cell_type": "code",
      "execution_count": null,
      "id": "670887b6",
      "metadata": {
        "id": "670887b6"
      },
      "outputs": [],
      "source": [
        "# df_train = df_train.reset_index()"
      ]
    },
    {
      "cell_type": "code",
      "execution_count": null,
      "id": "28079950",
      "metadata": {
        "id": "28079950"
      },
      "outputs": [],
      "source": [
        "# df_test = df_test.reset_index()"
      ]
    },
    {
      "cell_type": "code",
      "execution_count": null,
      "id": "00b4ce7c",
      "metadata": {
        "id": "00b4ce7c"
      },
      "outputs": [],
      "source": [
        "#KNN imputer"
      ]
    },
    {
      "cell_type": "code",
      "execution_count": null,
      "id": "c3d0a3ec",
      "metadata": {
        "id": "c3d0a3ec"
      },
      "outputs": [],
      "source": [
        "df_train"
      ]
    },
    {
      "cell_type": "markdown",
      "source": [
        "## KNNImputer for NaN"
      ],
      "metadata": {
        "id": "Gi6HNfHBUsrI"
      },
      "id": "Gi6HNfHBUsrI"
    },
    {
      "cell_type": "code",
      "execution_count": null,
      "id": "4babf272",
      "metadata": {
        "id": "4babf272"
      },
      "outputs": [],
      "source": [
        "from sklearn.impute import KNNImputer\n",
        "imputer = KNNImputer(n_neighbors=3)\n",
        "df_train_ = df_train.iloc[:,0:19]\n",
        "df_test_ = df_test.iloc[:,0:19]\n",
        "bmi_train = imputer.fit_transform(df_train_)\n",
        "bmi_test = imputer.transform(df_test_)"
      ]
    },
    {
      "cell_type": "code",
      "execution_count": null,
      "id": "9843398f",
      "metadata": {
        "id": "9843398f"
      },
      "outputs": [],
      "source": [
        "df_bmi_train = pd.DataFrame(bmi_train)\n",
        "df_bmi_test = pd.DataFrame(bmi_test)"
      ]
    },
    {
      "cell_type": "code",
      "execution_count": null,
      "id": "d3396e9f",
      "metadata": {
        "id": "d3396e9f"
      },
      "outputs": [],
      "source": [
        "df_bmi_train"
      ]
    },
    {
      "cell_type": "code",
      "execution_count": null,
      "id": "aa1e8402",
      "metadata": {
        "id": "aa1e8402"
      },
      "outputs": [],
      "source": [
        "df_bmi_train.iloc[:,12]"
      ]
    },
    {
      "cell_type": "code",
      "execution_count": null,
      "id": "911e3b54",
      "metadata": {
        "id": "911e3b54"
      },
      "outputs": [],
      "source": [
        "df_train['bmi'] = df_bmi_train.iloc[:,12].tolist()\n",
        "df_test['bmi'] = df_bmi_test.iloc[:,12].tolist()"
      ]
    },
    {
      "cell_type": "code",
      "execution_count": null,
      "id": "24688c10",
      "metadata": {
        "id": "24688c10"
      },
      "outputs": [],
      "source": [
        "df_train\n"
      ]
    },
    {
      "cell_type": "code",
      "execution_count": null,
      "id": "d829c335",
      "metadata": {
        "id": "d829c335"
      },
      "outputs": [],
      "source": [
        "df_test"
      ]
    },
    {
      "cell_type": "code",
      "execution_count": null,
      "id": "5bcd03b1",
      "metadata": {
        "id": "5bcd03b1"
      },
      "outputs": [],
      "source": [
        "df_train.describe()"
      ]
    },
    {
      "cell_type": "code",
      "execution_count": null,
      "id": "0474e847",
      "metadata": {
        "id": "0474e847"
      },
      "outputs": [],
      "source": [
        "df_test.describe()"
      ]
    },
    {
      "cell_type": "code",
      "execution_count": null,
      "id": "605e9014",
      "metadata": {
        "id": "605e9014"
      },
      "outputs": [],
      "source": [
        "# df_clean_outliers(df_train, 'bmi')\n",
        "# df_clean_outliers(df_train, 'avg_glucose_level')\n",
        "\n",
        "# df_clean_outliers(df_test, 'bmi')\n",
        "# df_clean_outliers(df_test, 'avg_glucose_level')"
      ]
    },
    {
      "cell_type": "code",
      "execution_count": null,
      "id": "058146d0",
      "metadata": {
        "id": "058146d0"
      },
      "outputs": [],
      "source": [
        "df_train.describe()"
      ]
    },
    {
      "cell_type": "markdown",
      "source": [
        "## Discretization"
      ],
      "metadata": {
        "id": "sjymI1o2U5W9"
      },
      "id": "sjymI1o2U5W9"
    },
    {
      "cell_type": "code",
      "execution_count": null,
      "id": "108f659d",
      "metadata": {
        "id": "108f659d"
      },
      "outputs": [],
      "source": [
        "def discretization(df):\n",
        "    category = pd.cut(df['bmi'], bins=[0,18.5,25,30,50,85,100], labels=[-2, 1, 2, 3, 4, 5])\n",
        "    category_2 = pd.cut(df['age'], bins=[0,30,40,60,80,110], labels=[1, 2, 3, 4, 5])\n",
        "    category_3 = pd.cut(df['avg_glucose_level'], bins=[0,70,114,140,300], labels=[-2, 1, 2, 3])\n",
        "    df.insert(0, 'age_group', category_2.astype(int))\n",
        "    df.insert(1, 'bmi_group', category.astype(int))\n",
        "    df.insert(2, 'gluc_group', category_3.astype(int))"
      ]
    },
    {
      "cell_type": "code",
      "execution_count": null,
      "id": "6dbf6fb9",
      "metadata": {
        "id": "6dbf6fb9"
      },
      "outputs": [],
      "source": [
        "discretization(df_train)\n",
        "discretization(df_test)\n",
        "df_train = df_train.drop(['age', 'avg_glucose_level', 'bmi'], axis = 1)\n",
        "df_test = df_test.drop(['age', 'avg_glucose_level', 'bmi'], axis = 1)"
      ]
    },
    {
      "cell_type": "code",
      "execution_count": null,
      "id": "42b2b478",
      "metadata": {
        "id": "42b2b478"
      },
      "outputs": [],
      "source": [
        "df_test"
      ]
    },
    {
      "cell_type": "markdown",
      "id": "2ac34ebd",
      "metadata": {
        "id": "2ac34ebd"
      },
      "source": [
        "## Undersampling"
      ]
    },
    {
      "cell_type": "code",
      "execution_count": null,
      "id": "606c7692",
      "metadata": {
        "id": "606c7692"
      },
      "outputs": [],
      "source": [
        "from sklearn.utils import resample\n",
        "df_majority = df_train[df_train['stroke'] == 0]\n",
        "df_minority = df_train[df_train['stroke'] == 1]"
      ]
    },
    {
      "cell_type": "code",
      "execution_count": null,
      "id": "a419fb9d",
      "metadata": {
        "id": "a419fb9d"
      },
      "outputs": [],
      "source": [
        "# Downsample majority class\n",
        "df_majority_downsampled = resample(df_majority, \n",
        "                                   replace=False,    # sample with replacement\n",
        "                                   n_samples=200,    # to match majority class\n",
        "                                   random_state=42)  # reproducible results\n",
        " \n",
        "# Combine majority class with upsampled minority class\n",
        "df_downsampled = pd.concat([df_minority, df_majority_downsampled])\n",
        " \n",
        "# Display new class counts\n",
        "df_downsampled['stroke'].value_counts()"
      ]
    },
    {
      "cell_type": "code",
      "execution_count": null,
      "id": "a887a97c",
      "metadata": {
        "id": "a887a97c"
      },
      "outputs": [],
      "source": [
        "X_train = df_downsampled.iloc[:,:-1]\n",
        "y_train = df_downsampled['stroke']\n",
        "X_test = df_test.iloc[:,:-1]\n",
        "y_test = df_test['stroke']"
      ]
    },
    {
      "cell_type": "code",
      "execution_count": null,
      "id": "1ebc3e1a",
      "metadata": {
        "id": "1ebc3e1a"
      },
      "outputs": [],
      "source": [
        "# X_train = df_train.iloc[:,:-1]\n",
        "# y_train = df_train['stroke']\n",
        "# X_test = df_test.iloc[:,:-1]\n",
        "# y_test = df_test['stroke']"
      ]
    },
    {
      "cell_type": "code",
      "execution_count": null,
      "id": "0458406d",
      "metadata": {
        "id": "0458406d"
      },
      "outputs": [],
      "source": [
        "X_train"
      ]
    },
    {
      "cell_type": "code",
      "execution_count": null,
      "id": "15d756d5",
      "metadata": {
        "id": "15d756d5"
      },
      "outputs": [],
      "source": [
        "X_test"
      ]
    },
    {
      "cell_type": "code",
      "execution_count": null,
      "id": "78fec2be",
      "metadata": {
        "id": "78fec2be"
      },
      "outputs": [],
      "source": [
        "# from sklearn.preprocessing import StandardScaler #standard scaler na bmi i wieku\n",
        "# scaler = StandardScaler()\n",
        "\n",
        "# scal = scaler.fit_transform(X_train[['age', 'bmi', 'avg_glucose_level']])\n",
        "# df_s = pd.DataFrame(scal, index=X_train.index, columns=['age', 'bmi', 'avg_glucose_level'])\n",
        "# X_train['age']=df_s['age']\n",
        "# X_train['bmi']=df_s['bmi']\n",
        "# X_train['avg_glucose_level']=df_s['avg_glucose_level']\n",
        "\n",
        "# test_scal = scaler.transform(X_test[['age', 'bmi', 'avg_glucose_level']])\n",
        "# df_t_s = pd.DataFrame(test_scal, index=X_test.index, columns=['age', 'bmi', 'avg_glucose_level'])\n",
        "\n",
        "# X_test['age']=df_t_s['age']\n",
        "# X_test['bmi']=df_t_s['bmi']\n",
        "# X_test['avg_glucose_level']=df_t_s['avg_glucose_level']\n",
        "\n"
      ]
    },
    {
      "cell_type": "code",
      "execution_count": null,
      "id": "e8bfe0f1",
      "metadata": {
        "id": "e8bfe0f1"
      },
      "outputs": [],
      "source": [
        "# from sklearn.preprocessing import StandardScaler #standard scaler na bmi i wieku\n",
        "# scaler = StandardScaler()\n",
        "\n",
        "# scal = scaler.fit_transform(X_train[['age_group', 'bmi_group', 'gluc_group']])\n",
        "# df_s = pd.DataFrame(scal, index=X_train.index, columns=['age_group', 'bmi_group', 'gluc_group'])\n",
        "\n",
        "# X_train.loc[:,'age_group']=df_s['age_group'].tolist()\n",
        "# X_train.loc[:,'bmi_group']=df_s['bmi_group'].tolist()\n",
        "# X_train.loc[:,'gluc_group']=df_s['gluc_group'].tolist()\n",
        "\n",
        "# test_scal = scaler.transform(X_test[['age_group', 'bmi_group', 'gluc_group']])\n",
        "# df_t_s = pd.DataFrame(test_scal, index=X_test.index, columns=['age_group', 'bmi_group', 'gluc_group'])\n",
        "\n",
        "# X_test.loc[:,'age_group']=df_t_s['age_group'].tolist()\n",
        "# X_test.loc[:,'bmi_group']=df_t_s['bmi_group'].tolist()\n",
        "# X_test.loc[:,'gluc_group']=df_t_s['gluc_group'].tolist()"
      ]
    },
    {
      "cell_type": "code",
      "execution_count": null,
      "id": "07b37f61",
      "metadata": {
        "id": "07b37f61"
      },
      "outputs": [],
      "source": [
        "X_train"
      ]
    },
    {
      "cell_type": "code",
      "execution_count": null,
      "id": "a58af42f",
      "metadata": {
        "id": "a58af42f"
      },
      "outputs": [],
      "source": [
        "X_test.info()"
      ]
    },
    {
      "cell_type": "code",
      "execution_count": null,
      "id": "dc6bf048",
      "metadata": {
        "id": "dc6bf048"
      },
      "outputs": [],
      "source": [
        "# from sklearn.decomposition import PCA\n",
        "# pca = PCA(n_components=5)\n",
        "# pca.fit(X_train)\n",
        "# X_train = pca.transform(X_train)\n",
        "# X_test = pca.transform(X_test)"
      ]
    },
    {
      "cell_type": "code",
      "execution_count": null,
      "id": "58bdb1a0",
      "metadata": {
        "id": "58bdb1a0"
      },
      "outputs": [],
      "source": [
        "# X_train = X_train.drop('age_group', axis=1)\n",
        "# X_test = X_test.drop('age_group', axis=1)"
      ]
    },
    {
      "cell_type": "code",
      "execution_count": null,
      "id": "b1b5ff86",
      "metadata": {
        "id": "b1b5ff86"
      },
      "outputs": [],
      "source": [
        "# X_train = X_train.drop('ever_married_Yes', axis=1)\n",
        "# X_test = X_test.drop('ever_married_Yes', axis=1)\n"
      ]
    },
    {
      "cell_type": "code",
      "execution_count": null,
      "id": "1e171885",
      "metadata": {
        "id": "1e171885"
      },
      "outputs": [],
      "source": [
        "X_train"
      ]
    },
    {
      "cell_type": "markdown",
      "id": "f0aebb1f",
      "metadata": {
        "id": "f0aebb1f"
      },
      "source": [
        "# Quality metrics"
      ]
    },
    {
      "cell_type": "code",
      "execution_count": null,
      "id": "340cda0d",
      "metadata": {
        "id": "340cda0d"
      },
      "outputs": [],
      "source": [
        "from sklearn.metrics import confusion_matrix, accuracy_score, classification_report\n",
        "\n",
        "def model_quality(y_test, y_pred):\n",
        "  \n",
        "  print(f'Accuracy: \\n {accuracy_score(y_test, y_pred)}')\n",
        "\n",
        "  print(f'Confusion Matrix: \\n {confusion_matrix(y_test, y_pred)}')\n",
        "\n",
        "  print(f'Classification Report: \\n {classification_report(y_test, y_pred)}')"
      ]
    },
    {
      "cell_type": "markdown",
      "id": "85764598",
      "metadata": {
        "id": "85764598"
      },
      "source": [
        "# ML models"
      ]
    },
    {
      "cell_type": "markdown",
      "id": "91bc4c5a",
      "metadata": {
        "id": "91bc4c5a"
      },
      "source": [
        "## XGBoost"
      ]
    },
    {
      "cell_type": "code",
      "execution_count": null,
      "id": "33236887",
      "metadata": {
        "id": "33236887"
      },
      "outputs": [],
      "source": []
    },
    {
      "cell_type": "code",
      "execution_count": null,
      "id": "a689f0fc",
      "metadata": {
        "id": "a689f0fc"
      },
      "outputs": [],
      "source": [
        "X_train.reset_index(inplace=True, drop=True)\n",
        "X_test.reset_index(inplace=True, drop=True)"
      ]
    },
    {
      "cell_type": "code",
      "execution_count": null,
      "id": "1a485802",
      "metadata": {
        "id": "1a485802"
      },
      "outputs": [],
      "source": [
        "from xgboost import XGBClassifier\n",
        "import xgboost as gb\n",
        "xgb = XGBClassifier() #regularyzacja l1: reg_alpha=0.9, l2: reg_lambda=0.4\n",
        "\n",
        "xgb.fit(X_train, y_train)\n",
        "\n",
        "y_pred = xgb.predict(X_test)\n",
        "y_pred_proba = xgb.predict_proba(X_test)"
      ]
    },
    {
      "cell_type": "code",
      "execution_count": null,
      "id": "fe121244",
      "metadata": {
        "colab": {
          "base_uri": "https://localhost:8080/",
          "height": 642
        },
        "id": "fe121244",
        "outputId": "cca80a03-5965-4658-fbbd-e5bbde5e2e6c",
        "scrolled": true
      },
      "outputs": [
        {
          "output_type": "error",
          "ename": "AttributeError",
          "evalue": "ignored",
          "traceback": [
            "\u001b[0;31m---------------------------------------------------------------------------\u001b[0m",
            "\u001b[0;31mAttributeError\u001b[0m                            Traceback (most recent call last)",
            "\u001b[0;32m<ipython-input-95-0a487681e4c8>\u001b[0m in \u001b[0;36m<module>\u001b[0;34m\u001b[0m\n\u001b[1;32m      1\u001b[0m \u001b[0mget_ipython\u001b[0m\u001b[0;34m(\u001b[0m\u001b[0;34m)\u001b[0m\u001b[0;34m.\u001b[0m\u001b[0mrun_line_magic\u001b[0m\u001b[0;34m(\u001b[0m\u001b[0;34m'matplotlib'\u001b[0m\u001b[0;34m,\u001b[0m \u001b[0;34m'inline'\u001b[0m\u001b[0;34m)\u001b[0m\u001b[0;34m\u001b[0m\u001b[0;34m\u001b[0m\u001b[0m\n\u001b[1;32m      2\u001b[0m \u001b[0mfig\u001b[0m\u001b[0;34m,\u001b[0m \u001b[0max\u001b[0m \u001b[0;34m=\u001b[0m \u001b[0mplt\u001b[0m\u001b[0;34m.\u001b[0m\u001b[0msubplots\u001b[0m\u001b[0;34m(\u001b[0m\u001b[0mfigsize\u001b[0m\u001b[0;34m=\u001b[0m\u001b[0;34m(\u001b[0m\u001b[0;36m20\u001b[0m\u001b[0;34m,\u001b[0m \u001b[0;36m8\u001b[0m\u001b[0;34m)\u001b[0m\u001b[0;34m)\u001b[0m\u001b[0;34m\u001b[0m\u001b[0;34m\u001b[0m\u001b[0m\n\u001b[0;32m----> 3\u001b[0;31m \u001b[0mplt\u001b[0m\u001b[0;34m.\u001b[0m\u001b[0mbar\u001b[0m\u001b[0;34m(\u001b[0m\u001b[0mxgb\u001b[0m\u001b[0;34m.\u001b[0m\u001b[0mfeature_names_in_\u001b[0m\u001b[0;34m,\u001b[0m \u001b[0mxgb\u001b[0m\u001b[0;34m.\u001b[0m\u001b[0mfeature_importances_\u001b[0m\u001b[0;34m)\u001b[0m\u001b[0;34m\u001b[0m\u001b[0;34m\u001b[0m\u001b[0m\n\u001b[0m\u001b[1;32m      4\u001b[0m \u001b[0mfig\u001b[0m\u001b[0;34m.\u001b[0m\u001b[0mtight_layout\u001b[0m\u001b[0;34m(\u001b[0m\u001b[0;34m)\u001b[0m\u001b[0;34m\u001b[0m\u001b[0;34m\u001b[0m\u001b[0m\n\u001b[1;32m      5\u001b[0m \u001b[0;34m\u001b[0m\u001b[0m\n",
            "\u001b[0;31mAttributeError\u001b[0m: 'XGBClassifier' object has no attribute 'feature_names_in_'"
          ]
        },
        {
          "output_type": "display_data",
          "data": {
            "text/plain": [
              "<Figure size 1440x576 with 1 Axes>"
            ],
            "image/png": "[encoded data removed]"
          },
          "metadata": {
            "needs_background": "light"
          }
        }
      ],
      "source": [
        "%matplotlib inline\n",
        "fig, ax = plt.subplots(figsize=(20, 8))\n",
        "plt.bar(xgb.feature_names_in_, xgb.feature_importances_)\n",
        "fig.tight_layout()\n",
        "\n",
        "plt.show()"
      ]
    },
    {
      "cell_type": "code",
      "execution_count": null,
      "id": "c7219268",
      "metadata": {
        "id": "c7219268"
      },
      "outputs": [],
      "source": [
        "class_weight_xgb = {}\n",
        "for i in range(len(X_train.columns)):\n",
        "    class_weight_xgb[i] = xgb.feature_importances_[i]\n",
        "print(class_weight_xgb)"
      ]
    },
    {
      "cell_type": "code",
      "execution_count": null,
      "id": "74aea844",
      "metadata": {
        "id": "74aea844",
        "outputId": "2f384338-c23b-487d-af43-d00d1a994e1d",
        "colab": {
          "base_uri": "https://localhost:8080/"
        }
      },
      "outputs": [
        {
          "output_type": "stream",
          "name": "stdout",
          "text": [
            "Accuracy: \n",
            " 0.6826741996233522\n",
            "Confusion Matrix: \n",
            " [[673 317]\n",
            " [ 20  52]]\n",
            "Classification Report: \n",
            "               precision    recall  f1-score   support\n",
            "\n",
            "           0       0.97      0.68      0.80       990\n",
            "           1       0.14      0.72      0.24        72\n",
            "\n",
            "    accuracy                           0.68      1062\n",
            "   macro avg       0.56      0.70      0.52      1062\n",
            "weighted avg       0.91      0.68      0.76      1062\n",
            "\n"
          ]
        }
      ],
      "source": [
        "from sklearn.model_selection import GridSearchCV\n",
        "params = {'reg_alpha':[0, 0.1, 0.4, 0.6, 1], 'reg_lambda':[0, 0.1, 0.4, 0.6, 1]}\n",
        "xgb = XGBClassifier() #regularyzacja l1: reg_alpha=0.9, l2: reg_lambda=0.4\n",
        "gs = GridSearchCV(estimator=xgb, param_grid=params, scoring = 'recall')\n",
        "gs.fit(X_train, y_train)\n",
        "y_pred = gs.predict(X_test)\n",
        "model_quality(y_test, y_pred)"
      ]
    },
    {
      "cell_type": "code",
      "execution_count": null,
      "id": "1ea0f427",
      "metadata": {
        "colab": {
          "base_uri": "https://localhost:8080/"
        },
        "id": "1ea0f427",
        "outputId": "a5920147-6406-424c-96c4-69599ef64b35",
        "scrolled": true
      },
      "outputs": [
        {
          "output_type": "stream",
          "name": "stdout",
          "text": [
            "Accuracy: \n",
            " 0.6826741996233522\n",
            "Confusion Matrix: \n",
            " [[673 317]\n",
            " [ 20  52]]\n",
            "Classification Report: \n",
            "               precision    recall  f1-score   support\n",
            "\n",
            "           0       0.97      0.68      0.80       990\n",
            "           1       0.14      0.72      0.24        72\n",
            "\n",
            "    accuracy                           0.68      1062\n",
            "   macro avg       0.56      0.70      0.52      1062\n",
            "weighted avg       0.91      0.68      0.76      1062\n",
            "\n"
          ]
        }
      ],
      "source": [
        "model_quality(y_test, y_pred)"
      ]
    },
    {
      "cell_type": "markdown",
      "id": "8913230c",
      "metadata": {
        "id": "8913230c"
      },
      "source": [
        "## RandomForestClassifier\n"
      ]
    },
    {
      "cell_type": "code",
      "execution_count": null,
      "id": "77ce8fe5",
      "metadata": {
        "id": "77ce8fe5"
      },
      "outputs": [],
      "source": [
        "from sklearn.ensemble import RandomForestClassifier\n",
        "\n",
        "rfc = RandomForestClassifier(n_estimators=10, max_features=2, max_depth=7, class_weight={0:.5, 1:1}) \n",
        "\n",
        "rfc.fit(X_train, y_train)\n",
        "y_pred_f = rfc.predict(X_test)"
      ]
    },
    {
      "cell_type": "code",
      "execution_count": null,
      "id": "75521101",
      "metadata": {
        "colab": {
          "base_uri": "https://localhost:8080/"
        },
        "id": "75521101",
        "outputId": "cfdf6ca5-ce5f-4e3c-e00c-4c7c0d5c676b"
      },
      "outputs": [
        {
          "output_type": "stream",
          "name": "stdout",
          "text": [
            "Accuracy: \n",
            " 0.5009416195856874\n",
            "Confusion Matrix: \n",
            " [[478 512]\n",
            " [ 18  54]]\n",
            "Classification Report: \n",
            "               precision    recall  f1-score   support\n",
            "\n",
            "           0       0.96      0.48      0.64       990\n",
            "           1       0.10      0.75      0.17        72\n",
            "\n",
            "    accuracy                           0.50      1062\n",
            "   macro avg       0.53      0.62      0.41      1062\n",
            "weighted avg       0.90      0.50      0.61      1062\n",
            "\n"
          ]
        }
      ],
      "source": [
        "model_quality(y_test, y_pred_f)"
      ]
    },
    {
      "cell_type": "code",
      "execution_count": null,
      "id": "be005436",
      "metadata": {
        "id": "be005436"
      },
      "outputs": [],
      "source": []
    },
    {
      "cell_type": "code",
      "execution_count": null,
      "id": "266015ac",
      "metadata": {
        "id": "266015ac"
      },
      "outputs": [],
      "source": [
        "from sklearn.model_selection import GridSearchCV"
      ]
    },
    {
      "cell_type": "code",
      "execution_count": null,
      "id": "6847881d",
      "metadata": {
        "id": "6847881d"
      },
      "outputs": [],
      "source": [
        "params = {'n_estimators':[5,6,7,8,9,10], 'max_features':[2,3,4,5], 'max_depth':[3,4,5,6]}\n",
        "gs = GridSearchCV(estimator=rfc, param_grid=params, scoring = 'recall')"
      ]
    },
    {
      "cell_type": "code",
      "execution_count": null,
      "id": "be909275",
      "metadata": {
        "colab": {
          "base_uri": "https://localhost:8080/"
        },
        "id": "be909275",
        "outputId": "7ab7d7d8-be4d-41c8-e5d1-1784412f3d24"
      },
      "outputs": [
        {
          "output_type": "execute_result",
          "data": {
            "text/plain": [
              "GridSearchCV(estimator=RandomForestClassifier(class_weight={0: 0.5, 1: 1},\n",
              "                                              max_depth=7, max_features=2,\n",
              "                                              n_estimators=10),\n",
              "             param_grid={'max_depth': [3, 4, 5, 6],\n",
              "                         'max_features': [2, 3, 4, 5],\n",
              "                         'n_estimators': [5, 6, 7, 8, 9, 10]},\n",
              "             scoring='recall')"
            ]
          },
          "metadata": {},
          "execution_count": 102
        }
      ],
      "source": [
        "gs.fit(X_train, y_train)"
      ]
    },
    {
      "cell_type": "code",
      "execution_count": null,
      "id": "4ed825f6",
      "metadata": {
        "colab": {
          "base_uri": "https://localhost:8080/"
        },
        "id": "4ed825f6",
        "outputId": "3dbbb41f-9b42-493f-d729-7cbe8100a82b"
      },
      "outputs": [
        {
          "output_type": "execute_result",
          "data": {
            "text/plain": [
              "{'max_depth': 3, 'max_features': 2, 'n_estimators': 7}"
            ]
          },
          "metadata": {},
          "execution_count": 103
        }
      ],
      "source": [
        "gs.best_params_"
      ]
    },
    {
      "cell_type": "code",
      "execution_count": null,
      "id": "siY1zFv3zozO",
      "metadata": {
        "id": "siY1zFv3zozO"
      },
      "outputs": [],
      "source": [
        "y_pred = gs.predict(X_test)"
      ]
    },
    {
      "cell_type": "code",
      "execution_count": null,
      "id": "d74d80f0",
      "metadata": {
        "colab": {
          "base_uri": "https://localhost:8080/"
        },
        "id": "d74d80f0",
        "outputId": "1dbc6aa2-c394-4fa5-919e-a135b31683c8"
      },
      "outputs": [
        {
          "output_type": "stream",
          "name": "stdout",
          "text": [
            "Accuracy: \n",
            " 0.3775894538606403\n",
            "Confusion Matrix: \n",
            " [[332 658]\n",
            " [  3  69]]\n",
            "Classification Report: \n",
            "               precision    recall  f1-score   support\n",
            "\n",
            "           0       0.99      0.34      0.50       990\n",
            "           1       0.09      0.96      0.17        72\n",
            "\n",
            "    accuracy                           0.38      1062\n",
            "   macro avg       0.54      0.65      0.34      1062\n",
            "weighted avg       0.93      0.38      0.48      1062\n",
            "\n"
          ]
        }
      ],
      "source": [
        "model_quality(y_test, y_pred)"
      ]
    },
    {
      "cell_type": "code",
      "execution_count": null,
      "id": "3qu6OtLx1UZF",
      "metadata": {
        "id": "3qu6OtLx1UZF"
      },
      "outputs": [],
      "source": [
        "# from yellowbrick.model_selection import ValidationCurve\n",
        "\n",
        "# viz = ValidationCurve(\n",
        "#     rfc, param_name=\"min_samples_split\",\n",
        "#     param_range=np.arange(1, 20, 1), cv=3)\n",
        "# viz.fit(X_train, y_train)\n",
        "# viz.show()"
      ]
    },
    {
      "cell_type": "markdown",
      "id": "_HMQkf13z8_0",
      "metadata": {
        "id": "_HMQkf13z8_0"
      },
      "source": [
        "## Logistic Regression"
      ]
    },
    {
      "cell_type": "code",
      "execution_count": null,
      "id": "H3IRql6YzuMC",
      "metadata": {
        "id": "H3IRql6YzuMC"
      },
      "outputs": [],
      "source": [
        "from sklearn.linear_model import LogisticRegression\n",
        "lr = LogisticRegression()"
      ]
    },
    {
      "cell_type": "code",
      "execution_count": null,
      "id": "OLNlDlcs0BXS",
      "metadata": {
        "id": "OLNlDlcs0BXS"
      },
      "outputs": [],
      "source": [
        "params = {'penalty': ['l1', 'l2'], 'C': [0.0001, 0.001, 0.01, 0.03, 0.04, 0.05, 0.6, 0.1,0.9, 1, 1.1, 1.2,1.5, 1.6 ], 'class_weight' : [{0:.8, 1:1}]}\n",
        "gs = GridSearchCV(estimator=lr, param_grid=params) #, scoring = 'recall')"
      ]
    },
    {
      "cell_type": "code",
      "execution_count": null,
      "id": "8XIWQQUX0Hru",
      "metadata": {
        "id": "8XIWQQUX0Hru",
        "outputId": "b4bf5d3b-4f84-42d4-8089-e3ffb0beb504",
        "colab": {
          "base_uri": "https://localhost:8080/"
        }
      },
      "outputs": [
        {
          "output_type": "stream",
          "name": "stderr",
          "text": [
            "/usr/local/lib/python3.7/dist-packages/sklearn/model_selection/_validation.py:372: FitFailedWarning: \n",
            "70 fits failed out of a total of 140.\n",
            "The score on these train-test partitions for these parameters will be set to nan.\n",
            "If these failures are not expected, you can try to debug them by setting error_score='raise'.\n",
            "\n",
            "Below are more details about the failures:\n",
            "--------------------------------------------------------------------------------\n",
            "70 fits failed with the following error:\n",
            "Traceback (most recent call last):\n",
            "  File \"/usr/local/lib/python3.7/dist-packages/sklearn/model_selection/_validation.py\", line 680, in _fit_and_score\n",
            "    estimator.fit(X_train, y_train, **fit_params)\n",
            "  File \"/usr/local/lib/python3.7/dist-packages/sklearn/linear_model/_logistic.py\", line 1461, in fit\n",
            "    solver = _check_solver(self.solver, self.penalty, self.dual)\n",
            "  File \"/usr/local/lib/python3.7/dist-packages/sklearn/linear_model/_logistic.py\", line 449, in _check_solver\n",
            "    % (solver, penalty)\n",
            "ValueError: Solver lbfgs supports only 'l2' or 'none' penalties, got l1 penalty.\n",
            "\n",
            "  warnings.warn(some_fits_failed_message, FitFailedWarning)\n",
            "/usr/local/lib/python3.7/dist-packages/sklearn/model_selection/_search.py:972: UserWarning: One or more of the test scores are non-finite: [       nan 0.46666667        nan 0.62933333        nan 0.696\n",
            "        nan 0.72              nan 0.71733333        nan 0.71733333\n",
            "        nan 0.70666667        nan 0.72              nan 0.70666667\n",
            "        nan 0.70933333        nan 0.70933333        nan 0.70933333\n",
            "        nan 0.70933333        nan 0.70933333]\n",
            "  category=UserWarning,\n"
          ]
        },
        {
          "output_type": "execute_result",
          "data": {
            "text/plain": [
              "GridSearchCV(estimator=LogisticRegression(),\n",
              "             param_grid={'C': [0.0001, 0.001, 0.01, 0.03, 0.04, 0.05, 0.6, 0.1,\n",
              "                               0.9, 1, 1.1, 1.2, 1.5, 1.6],\n",
              "                         'class_weight': [{0: 0.8, 1: 1}],\n",
              "                         'penalty': ['l1', 'l2']})"
            ]
          },
          "metadata": {},
          "execution_count": 109
        }
      ],
      "source": [
        "gs.fit(X_train, y_train)"
      ]
    },
    {
      "cell_type": "code",
      "execution_count": null,
      "id": "8ad2252f",
      "metadata": {
        "id": "8ad2252f",
        "outputId": "3cee6301-16bf-4a17-b28d-2716d4cb70d3",
        "colab": {
          "base_uri": "https://localhost:8080/"
        }
      },
      "outputs": [
        {
          "output_type": "execute_result",
          "data": {
            "text/plain": [
              "0.7226666666666667"
            ]
          },
          "metadata": {},
          "execution_count": 110
        }
      ],
      "source": [
        "gs.score(X_train, y_train)"
      ]
    },
    {
      "cell_type": "code",
      "execution_count": null,
      "id": "845de530",
      "metadata": {
        "id": "845de530",
        "outputId": "d630865d-9568-4090-f951-fa471fb6aaf5",
        "colab": {
          "base_uri": "https://localhost:8080/"
        }
      },
      "outputs": [
        {
          "output_type": "execute_result",
          "data": {
            "text/plain": [
              "0.6779661016949152"
            ]
          },
          "metadata": {},
          "execution_count": 111
        }
      ],
      "source": [
        "gs.score(X_test, y_test)"
      ]
    },
    {
      "cell_type": "code",
      "execution_count": null,
      "id": "S2_2OGFB0NUm",
      "metadata": {
        "colab": {
          "base_uri": "https://localhost:8080/"
        },
        "id": "S2_2OGFB0NUm",
        "outputId": "8f3b07ce-eae2-4c0f-8e30-013247a61660"
      },
      "outputs": [
        {
          "output_type": "execute_result",
          "data": {
            "text/plain": [
              "{'C': 0.03, 'class_weight': {0: 0.8, 1: 1}, 'penalty': 'l2'}"
            ]
          },
          "metadata": {},
          "execution_count": 112
        }
      ],
      "source": [
        "gs.best_params_"
      ]
    },
    {
      "cell_type": "code",
      "execution_count": null,
      "id": "vPBh0JEV0PFg",
      "metadata": {
        "id": "vPBh0JEV0PFg"
      },
      "outputs": [],
      "source": [
        "y_pred = gs.predict(X_test)"
      ]
    },
    {
      "cell_type": "code",
      "execution_count": null,
      "id": "IfOIyfx00QAF",
      "metadata": {
        "colab": {
          "base_uri": "https://localhost:8080/"
        },
        "id": "IfOIyfx00QAF",
        "outputId": "81634bf8-e61a-430d-f55e-b6473c407219"
      },
      "outputs": [
        {
          "output_type": "stream",
          "name": "stdout",
          "text": [
            "Accuracy: \n",
            " 0.6779661016949152\n",
            "Confusion Matrix: \n",
            " [[662 328]\n",
            " [ 14  58]]\n",
            "Classification Report: \n",
            "               precision    recall  f1-score   support\n",
            "\n",
            "           0       0.98      0.67      0.79       990\n",
            "           1       0.15      0.81      0.25        72\n",
            "\n",
            "    accuracy                           0.68      1062\n",
            "   macro avg       0.56      0.74      0.52      1062\n",
            "weighted avg       0.92      0.68      0.76      1062\n",
            "\n"
          ]
        }
      ],
      "source": [
        "model_quality(y_test, y_pred)"
      ]
    },
    {
      "cell_type": "markdown",
      "id": "ibZkoAQb5XKx",
      "metadata": {
        "id": "ibZkoAQb5XKx"
      },
      "source": [
        "## Voting Classifier"
      ]
    },
    {
      "cell_type": "code",
      "execution_count": null,
      "id": "F1dXn7WL49XS",
      "metadata": {
        "id": "F1dXn7WL49XS",
        "outputId": "a90413ea-6d18-484f-97c3-825224d791d7",
        "colab": {
          "base_uri": "https://localhost:8080/"
        }
      },
      "outputs": [
        {
          "output_type": "stream",
          "name": "stdout",
          "text": [
            "Accuracy: \n",
            " 0.53954802259887\n",
            "Confusion Matrix: \n",
            " [[511 479]\n",
            " [ 10  62]]\n",
            "Classification Report: \n",
            "               precision    recall  f1-score   support\n",
            "\n",
            "           0       0.98      0.52      0.68       990\n",
            "           1       0.11      0.86      0.20        72\n",
            "\n",
            "    accuracy                           0.54      1062\n",
            "   macro avg       0.55      0.69      0.44      1062\n",
            "weighted avg       0.92      0.54      0.64      1062\n",
            "\n"
          ]
        }
      ],
      "source": [
        "lr = LogisticRegression(C = 1, penalty='l1', solver='liblinear', class_weight= {0:.4, 1:1})\n",
        "rfc = RandomForestClassifier(n_estimators=12, max_features=6, max_depth=4, class_weight={0:.4, 1:1}) \n",
        "from sklearn.ensemble import VotingClassifier\n",
        "from sklearn.naive_bayes import GaussianNB\n",
        "gnb = GaussianNB()\n",
        "xgb = XGBClassifier()\n",
        "# from sklearn.pipeline import Pipeline\n",
        "# pipe = Pipeline([('lr', LogisticRegression(class_weight='balanced', C=1, penalty='l1', solver='saga')), \n",
        "#                  ('rfc', RandomForestClassifier(class_weight='balanced', n_estimators=9, max_features=6, max_depth=4))])\n",
        "# pipe.fit(X_train, y_train)\n",
        "# pipe.score(X_test, y_test)\n",
        "eclf1 = VotingClassifier(estimators=[('lr', lr), ('rfc', rfc), ('gnb', gnb), ('xgb', xgb)], voting='soft', weights=[3,2,1,1], flatten_transform=True)\n",
        "eclf1 = eclf1.fit(X_train, y_train)\n",
        "y_pred = eclf1.predict(X_test)\n",
        "model_quality(y_test, y_pred)"
      ]
    },
    {
      "cell_type": "code",
      "execution_count": null,
      "id": "9a73ab76",
      "metadata": {
        "id": "9a73ab76",
        "outputId": "9db96d9b-610c-43f9-d7ad-e80a97709eec",
        "colab": {
          "base_uri": "https://localhost:8080/"
        }
      },
      "outputs": [
        {
          "output_type": "execute_result",
          "data": {
            "text/plain": [
              "0.6986666666666667"
            ]
          },
          "metadata": {},
          "execution_count": 116
        }
      ],
      "source": [
        "eclf1.score(X_train, y_train)"
      ]
    },
    {
      "cell_type": "code",
      "execution_count": null,
      "id": "5d394b05",
      "metadata": {
        "id": "5d394b05",
        "outputId": "73597654-04d6-49b3-8724-713bce829f46",
        "colab": {
          "base_uri": "https://localhost:8080/"
        }
      },
      "outputs": [
        {
          "output_type": "execute_result",
          "data": {
            "text/plain": [
              "0.53954802259887"
            ]
          },
          "metadata": {},
          "execution_count": 117
        }
      ],
      "source": [
        "eclf1.score(X_test, y_test)"
      ]
    },
    {
      "cell_type": "markdown",
      "id": "9f432787",
      "metadata": {
        "id": "9f432787"
      },
      "source": [
        "## SVM"
      ]
    },
    {
      "cell_type": "code",
      "execution_count": null,
      "id": "9857e60c",
      "metadata": {
        "id": "9857e60c",
        "outputId": "7622d8ef-d562-48dc-8727-20cc2f00d131",
        "colab": {
          "base_uri": "https://localhost:8080/"
        }
      },
      "outputs": [
        {
          "output_type": "stream",
          "name": "stdout",
          "text": [
            "Accuracy: \n",
            " 0.5037664783427496\n",
            "Confusion Matrix: \n",
            " [[472 518]\n",
            " [  9  63]]\n",
            "Classification Report: \n",
            "               precision    recall  f1-score   support\n",
            "\n",
            "           0       0.98      0.48      0.64       990\n",
            "           1       0.11      0.88      0.19        72\n",
            "\n",
            "    accuracy                           0.50      1062\n",
            "   macro avg       0.54      0.68      0.42      1062\n",
            "weighted avg       0.92      0.50      0.61      1062\n",
            "\n"
          ]
        }
      ],
      "source": [
        "from sklearn.svm import SVC\n",
        "svc = SVC(kernel='linear', probability=False, class_weight={0:.5, 1:1})\n",
        "svc.fit(X_train, y_train)\n",
        "y_pred = svc.predict(X_test)\n",
        "model_quality(y_test, y_pred)"
      ]
    },
    {
      "cell_type": "code",
      "execution_count": null,
      "id": "5fa2430c",
      "metadata": {
        "id": "5fa2430c",
        "outputId": "5be4df88-22f3-40f5-e749-31d3691c2b9b",
        "colab": {
          "base_uri": "https://localhost:8080/"
        }
      },
      "outputs": [
        {
          "output_type": "execute_result",
          "data": {
            "text/plain": [
              "array([0.83333333, 0.66666667, 0.77777778, 0.55555556, 0.77777778,\n",
              "       0.76470588, 0.94117647, 0.70588235, 0.64705882, 0.64705882])"
            ]
          },
          "metadata": {},
          "execution_count": 119
        }
      ],
      "source": [
        "from sklearn import svm\n",
        "from sklearn.model_selection import cross_val_score\n",
        "clf = svm.SVC(kernel='linear', C=1, random_state=42).fit(X_train, y_train)\n",
        "scores = cross_val_score(clf, X_train, y_train, cv=10, scoring = 'recall')\n",
        "\n",
        "scores\n",
        "\n"
      ]
    },
    {
      "cell_type": "code",
      "execution_count": null,
      "id": "564cd24c",
      "metadata": {
        "id": "564cd24c"
      },
      "outputs": [],
      "source": [
        "from sklearn.model_selection import cross_val_predict\n",
        "from sklearn.metrics import confusion_matrix\n",
        "clf = svm.SVC(kernel='linear', C=1, random_state=42).fit(X_train, y_train)\n",
        "y_pred = cross_val_predict(clf, X_test, y_test, cv=5)\n",
        "conf_mat = confusion_matrix(y_test, y_pred)"
      ]
    },
    {
      "cell_type": "code",
      "execution_count": null,
      "id": "866c80de",
      "metadata": {
        "id": "866c80de",
        "outputId": "3d699765-510b-4c5b-d8b4-2c76e8a2d1e5",
        "colab": {
          "base_uri": "https://localhost:8080/"
        }
      },
      "outputs": [
        {
          "output_type": "execute_result",
          "data": {
            "text/plain": [
              "array([[990,   0],\n",
              "       [ 72,   0]])"
            ]
          },
          "metadata": {},
          "execution_count": 121
        }
      ],
      "source": [
        "conf_mat"
      ]
    },
    {
      "cell_type": "code",
      "execution_count": null,
      "id": "c3114a3d",
      "metadata": {
        "id": "c3114a3d"
      },
      "outputs": [],
      "source": [
        "from sklearn.model_selection import cross_val_score"
      ]
    },
    {
      "cell_type": "code",
      "execution_count": null,
      "id": "732efeab",
      "metadata": {
        "id": "732efeab",
        "outputId": "bdd078fc-b03c-4b06-f655-6a72bdd97c30",
        "colab": {
          "base_uri": "https://localhost:8080/"
        }
      },
      "outputs": [
        {
          "output_type": "stream",
          "name": "stdout",
          "text": [
            "Accuracy: \n",
            " 0.7222222222222222\n",
            "Confusion Matrix: \n",
            " [[716 274]\n",
            " [ 21  51]]\n",
            "Classification Report: \n",
            "               precision    recall  f1-score   support\n",
            "\n",
            "           0       0.97      0.72      0.83       990\n",
            "           1       0.16      0.71      0.26        72\n",
            "\n",
            "    accuracy                           0.72      1062\n",
            "   macro avg       0.56      0.72      0.54      1062\n",
            "weighted avg       0.92      0.72      0.79      1062\n",
            "\n"
          ]
        }
      ],
      "source": [
        "y_pred = clf.predict(X_test)\n",
        "model_quality(y_test, y_pred)"
      ]
    },
    {
      "cell_type": "code",
      "execution_count": null,
      "id": "2b40d178",
      "metadata": {
        "id": "2b40d178"
      },
      "outputs": [],
      "source": [
        "# dodac dyskretyzacje i cross walidacje, sprawdzic PCA i SVM i KNNimputer"
      ]
    },
    {
      "cell_type": "code",
      "execution_count": null,
      "id": "87317634",
      "metadata": {
        "id": "87317634"
      },
      "outputs": [],
      "source": []
    },
    {
      "cell_type": "code",
      "execution_count": null,
      "id": "8cd2c34d",
      "metadata": {
        "id": "8cd2c34d"
      },
      "outputs": [],
      "source": []
    },
    {
      "cell_type": "code",
      "execution_count": null,
      "id": "be39f8de",
      "metadata": {
        "id": "be39f8de"
      },
      "outputs": [],
      "source": [
        "from sklearn.ensemble import AdaBoostClassifier"
      ]
    },
    {
      "cell_type": "code",
      "execution_count": null,
      "id": "ebf546e8",
      "metadata": {
        "id": "ebf546e8",
        "colab": {
          "base_uri": "https://localhost:8080/"
        },
        "outputId": "c5a092b2-3d2f-48b3-d9d7-1d146db1a84b"
      },
      "outputs": [
        {
          "output_type": "execute_result",
          "data": {
            "text/plain": [
              "AdaBoostClassifier()"
            ]
          },
          "metadata": {},
          "execution_count": 131
        }
      ],
      "source": [
        "clf = AdaBoostClassifier()\n",
        "\n",
        "clf.fit(X_train, y_train)\n"
      ]
    },
    {
      "cell_type": "code",
      "execution_count": null,
      "id": "a3300f5c",
      "metadata": {
        "id": "a3300f5c",
        "colab": {
          "base_uri": "https://localhost:8080/"
        },
        "outputId": "97bf91db-6ca2-4d46-92ce-5e9e2f9ce5d8"
      },
      "outputs": [
        {
          "output_type": "stream",
          "name": "stdout",
          "text": [
            "Accuracy: \n",
            " 0.7128060263653484\n",
            "Confusion Matrix: \n",
            " [[708 282]\n",
            " [ 23  49]]\n",
            "Classification Report: \n",
            "               precision    recall  f1-score   support\n",
            "\n",
            "           0       0.97      0.72      0.82       990\n",
            "           1       0.15      0.68      0.24        72\n",
            "\n",
            "    accuracy                           0.71      1062\n",
            "   macro avg       0.56      0.70      0.53      1062\n",
            "weighted avg       0.91      0.71      0.78      1062\n",
            "\n"
          ]
        }
      ],
      "source": [
        "y_pred = clf.predict(X_test)\n",
        "model_quality(y_test, y_pred)"
      ]
    },
    {
      "cell_type": "code",
      "source": [
        "from sklearn.model_selection import KFold, StratifiedKFold\n",
        "\n",
        "def cross_validate(classifier, kfold, X, y, X_t, y_t, params=None, talk=True):\n",
        "    X = np.concatenate(X, X_t)\n",
        "    y = np.concatenate(y, y_t)\n",
        "    if params is None:\n",
        "        params = {}\n",
        "    if classifier.__class__.__name__ == 'ABCMeta':\n",
        "        clf = classifier(**params)\n",
        "    else:\n",
        "        clf = classifier\n",
        "    predicted = []\n",
        "    target = []\n",
        "\n",
        "    for train_index, test_index in kfold.split(X, y):\n",
        "        X_train, X_test = X.iloc[train_index], X.iloc[test_index]\n",
        "        y_train, y_test = y.iloc[train_index], y.iloc[test_index]\n",
        "        clf.fit(X=X_train, y=y_train)\n",
        "        predicted = np.concatenate((predicted, clf.predict(X_test)))\n",
        "        target = np.concatenate((target, y_test))\n",
        "    \n",
        "    model_quality(target, predicted)\n",
        "    "
      ],
      "metadata": {
        "id": "8KvOJ4DaWNFx"
      },
      "id": "8KvOJ4DaWNFx",
      "execution_count": null,
      "outputs": []
    },
    {
      "cell_type": "code",
      "source": [
        "from sklearn.tree import DecisionTreeClassifier\n",
        "cross_validate(DecisionTreeClassifier, StratifiedKFold(10), X_train, y_train, X_test, y_test)"
      ],
      "metadata": {
        "colab": {
          "base_uri": "https://localhost:8080/",
          "height": 348
        },
        "id": "9hzgv937eEh1",
        "outputId": "83d2d530-5742-4359-c2e1-dbb1e82f9e49"
      },
      "id": "9hzgv937eEh1",
      "execution_count": null,
      "outputs": [
        {
          "output_type": "error",
          "ename": "TypeError",
          "evalue": "ignored",
          "traceback": [
            "\u001b[0;31m---------------------------------------------------------------------------\u001b[0m",
            "\u001b[0;31mTypeError\u001b[0m                                 Traceback (most recent call last)",
            "\u001b[0;32m<ipython-input-149-246ab5c5634d>\u001b[0m in \u001b[0;36m<module>\u001b[0;34m\u001b[0m\n\u001b[1;32m      1\u001b[0m \u001b[0;32mfrom\u001b[0m \u001b[0msklearn\u001b[0m\u001b[0;34m.\u001b[0m\u001b[0mtree\u001b[0m \u001b[0;32mimport\u001b[0m \u001b[0mDecisionTreeClassifier\u001b[0m\u001b[0;34m\u001b[0m\u001b[0;34m\u001b[0m\u001b[0m\n\u001b[0;32m----> 2\u001b[0;31m \u001b[0mcross_validate\u001b[0m\u001b[0;34m(\u001b[0m\u001b[0mDecisionTreeClassifier\u001b[0m\u001b[0;34m,\u001b[0m \u001b[0mStratifiedKFold\u001b[0m\u001b[0;34m(\u001b[0m\u001b[0;36m10\u001b[0m\u001b[0;34m)\u001b[0m\u001b[0;34m,\u001b[0m \u001b[0mX_train\u001b[0m\u001b[0;34m,\u001b[0m \u001b[0my_train\u001b[0m\u001b[0;34m,\u001b[0m \u001b[0mX_test\u001b[0m\u001b[0;34m,\u001b[0m \u001b[0my_test\u001b[0m\u001b[0;34m)\u001b[0m\u001b[0;34m\u001b[0m\u001b[0;34m\u001b[0m\u001b[0m\n\u001b[0m",
            "\u001b[0;32m<ipython-input-148-1554df5b89eb>\u001b[0m in \u001b[0;36mcross_validate\u001b[0;34m(classifier, kfold, X, y, X_t, y_t, params, talk)\u001b[0m\n\u001b[1;32m      2\u001b[0m \u001b[0;34m\u001b[0m\u001b[0m\n\u001b[1;32m      3\u001b[0m \u001b[0;32mdef\u001b[0m \u001b[0mcross_validate\u001b[0m\u001b[0;34m(\u001b[0m\u001b[0mclassifier\u001b[0m\u001b[0;34m,\u001b[0m \u001b[0mkfold\u001b[0m\u001b[0;34m,\u001b[0m \u001b[0mX\u001b[0m\u001b[0;34m,\u001b[0m \u001b[0my\u001b[0m\u001b[0;34m,\u001b[0m \u001b[0mX_t\u001b[0m\u001b[0;34m,\u001b[0m \u001b[0my_t\u001b[0m\u001b[0;34m,\u001b[0m \u001b[0mparams\u001b[0m\u001b[0;34m=\u001b[0m\u001b[0;32mNone\u001b[0m\u001b[0;34m,\u001b[0m \u001b[0mtalk\u001b[0m\u001b[0;34m=\u001b[0m\u001b[0;32mTrue\u001b[0m\u001b[0;34m)\u001b[0m\u001b[0;34m:\u001b[0m\u001b[0;34m\u001b[0m\u001b[0;34m\u001b[0m\u001b[0m\n\u001b[0;32m----> 4\u001b[0;31m     \u001b[0mX\u001b[0m \u001b[0;34m=\u001b[0m \u001b[0mnp\u001b[0m\u001b[0;34m.\u001b[0m\u001b[0mconcatenate\u001b[0m\u001b[0;34m(\u001b[0m\u001b[0mX\u001b[0m\u001b[0;34m,\u001b[0m \u001b[0mX_t\u001b[0m\u001b[0;34m)\u001b[0m\u001b[0;34m\u001b[0m\u001b[0;34m\u001b[0m\u001b[0m\n\u001b[0m\u001b[1;32m      5\u001b[0m     \u001b[0my\u001b[0m \u001b[0;34m=\u001b[0m \u001b[0mnp\u001b[0m\u001b[0;34m.\u001b[0m\u001b[0mconcatenate\u001b[0m\u001b[0;34m(\u001b[0m\u001b[0my\u001b[0m\u001b[0;34m,\u001b[0m \u001b[0my_t\u001b[0m\u001b[0;34m)\u001b[0m\u001b[0;34m\u001b[0m\u001b[0;34m\u001b[0m\u001b[0m\n\u001b[1;32m      6\u001b[0m     \u001b[0;32mif\u001b[0m \u001b[0mparams\u001b[0m \u001b[0;32mis\u001b[0m \u001b[0;32mNone\u001b[0m\u001b[0;34m:\u001b[0m\u001b[0;34m\u001b[0m\u001b[0;34m\u001b[0m\u001b[0m\n",
            "\u001b[0;32m<__array_function__ internals>\u001b[0m in \u001b[0;36mconcatenate\u001b[0;34m(*args, **kwargs)\u001b[0m\n",
            "\u001b[0;31mTypeError\u001b[0m: 'DataFrame' object cannot be interpreted as an integer"
          ]
        }
      ]
    },
    {
      "cell_type": "code",
      "source": [],
      "metadata": {
        "id": "9QFdoPLQ2chR"
      },
      "id": "9QFdoPLQ2chR",
      "execution_count": null,
      "outputs": []
    }
  ],
  "metadata": {
    "colab": {
      "provenance": [],
      "collapsed_sections": [
        "ctpS6KG-Vw5i",
        "nNHAJCc4VokR",
        "iDJeSLcZV3oN",
        "UyRWgcn0Ve_1",
        "e38852ea",
        "qDS7HzgxVFQk",
        "Gi6HNfHBUsrI",
        "sjymI1o2U5W9",
        "2ac34ebd",
        "f0aebb1f",
        "91bc4c5a",
        "8913230c",
        "_HMQkf13z8_0",
        "ibZkoAQb5XKx"
      ],
      "include_colab_link": true
    },
    "kernelspec": {
      "display_name": "Python 3 (ipykernel)",
      "language": "python",
      "name": "python3"
    },
    "language_info": {
      "codemirror_mode": {
        "name": "ipython",
        "version": 3
      },
      "file_extension": ".py",
      "mimetype": "text/x-python",
      "name": "python",
      "nbconvert_exporter": "python",
      "pygments_lexer": "ipython3",
      "version": "3.9.12"
    }
  },
  "nbformat": 4,
  "nbformat_minor": 5
}